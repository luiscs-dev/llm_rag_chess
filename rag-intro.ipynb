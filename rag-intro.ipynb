{
 "cells": [
  {
   "cell_type": "code",
   "execution_count": 53,
   "id": "58ffdcd4-32f3-4d87-b0ae-a809628707ab",
   "metadata": {},
   "outputs": [
    {
     "name": "stdout",
     "output_type": "stream",
     "text": [
      "Requirement already satisfied: chess in /home/luiscs/projects/github/llm-bootcamp/venv/lib/python3.10/site-packages (1.10.0)\n",
      "Collecting chardet\n",
      "  Downloading chardet-5.2.0-py3-none-any.whl (199 kB)\n",
      "\u001b[2K     \u001b[38;2;114;156;31m━━━━━━━━━━━━━━━━━━━━━━━━━━━━━━━━━━━━━\u001b[0m \u001b[32m199.4/199.4 KB\u001b[0m \u001b[31m249.2 kB/s\u001b[0m eta \u001b[36m0:00:00\u001b[0m[36m0:00:01\u001b[0m[36m0:00:01\u001b[0m:01\u001b[0m\n",
      "\u001b[?25hInstalling collected packages: chardet\n",
      "Successfully installed chardet-5.2.0\n"
     ]
    }
   ],
   "source": [
    "!pip install chess\n",
    "!pip install chardet"
   ]
  },
  {
   "cell_type": "code",
   "execution_count": 1,
   "id": "43317047",
   "metadata": {},
   "outputs": [],
   "source": [
    "import chess \n",
    "import chess.pgn\n",
    "import io"
   ]
  },
  {
   "cell_type": "code",
   "execution_count": 55,
   "id": "da172570-b885-48a4-893f-14a72bc36098",
   "metadata": {},
   "outputs": [
    {
     "data": {
      "text/plain": [
       "'[Event \"Wch U16\"]\\n[Site \"Wattignies\"]\\n[Date \"1976.08.27\"]\\n[Round \"?\"]\\n[White \"Chandler, Murray G\"]\\n[Black \"Kasparov, Gary\"]\\n[Result \"1-0\"]\\n[WhiteElo \"\"]\\n[BlackElo \"\"]\\n[ECO \"B22\"]'"
      ]
     },
     "execution_count": 55,
     "metadata": {},
     "output_type": "execute_result"
    }
   ],
   "source": [
    "import chardet\n",
    "\n",
    "with open('../llm_rag_chess/data/Kasparov.pgn', 'rb') as file:\n",
    "    raw_data = file.read()\n",
    "    result = chardet.detect(raw_data)\n",
    "    encoding = result['encoding']\n",
    "\n",
    "with open('../llm_rag_chess/data/Kasparov.pgn', 'r', encoding=encoding) as f:\n",
    "    lines = f.read().strip().split(\"\\n\\n\")\n",
    "\n",
    "lines[0]"
   ]
  },
  {
   "cell_type": "code",
   "execution_count": 2,
   "id": "31f32b8f",
   "metadata": {},
   "outputs": [
    {
     "data": {
      "text/plain": [
       "'[Event \"Rated Classical game\"]\\n[Site \"https://lichess.org/j1dkb5dw\"]\\n[White \"BFG9k\"]\\n[Black \"mamalak\"]\\n[Result \"1-0\"]\\n[UTCDate \"2012.12.31\"]\\n[UTCTime \"23:01:03\"]\\n[WhiteElo \"1639\"]\\n[BlackElo \"1403\"]\\n[WhiteRatingDiff \"+5\"]\\n[BlackRatingDiff \"-8\"]\\n[ECO \"C00\"]\\n[Opening \"French Defense: Normal Variation\"]\\n[TimeControl \"600+8\"]\\n[Termination \"Normal\"]'"
      ]
     },
     "execution_count": 2,
     "metadata": {},
     "output_type": "execute_result"
    }
   ],
   "source": [
    "with open('../llm_rag_chess/data/lichess_db.pgn') as f:\n",
    "    lines = f.read().strip().split(\"\\n\\n\")\n",
    "\n",
    "lines[0]"
   ]
  },
  {
   "cell_type": "code",
   "execution_count": 3,
   "id": "74d1c762-c0b1-481f-af92-8346d5bc0958",
   "metadata": {},
   "outputs": [
    {
     "data": {
      "text/plain": [
       "['[Event \"Rated Classical game\"]\\n[Site \"https://lichess.org/j1dkb5dw\"]\\n[White \"BFG9k\"]\\n[Black \"mamalak\"]\\n[Result \"1-0\"]\\n[UTCDate \"2012.12.31\"]\\n[UTCTime \"23:01:03\"]\\n[WhiteElo \"1639\"]\\n[BlackElo \"1403\"]\\n[WhiteRatingDiff \"+5\"]\\n[BlackRatingDiff \"-8\"]\\n[ECO \"C00\"]\\n[Opening \"French Defense: Normal Variation\"]\\n[TimeControl \"600+8\"]\\n[Termination \"Normal\"]',\n",
       " '1. e4 e6 2. d4 b6 3. a3 Bb7 4. Nc3 Nh6 5. Bxh6 gxh6 6. Be2 Qg5 7. Bg4 h5 8. Nf3 Qg6 9. Nh4 Qg5 10. Bxh5 Qxh4 11. Qf3 Kd8 12. Qxf7 Nc6 13. Qe8# 1-0',\n",
       " '[Event \"Rated Classical game\"]\\n[Site \"https://lichess.org/a9tcp02g\"]\\n[White \"Desmond_Wilson\"]\\n[Black \"savinka59\"]\\n[Result \"1-0\"]\\n[UTCDate \"2012.12.31\"]\\n[UTCTime \"23:04:12\"]\\n[WhiteElo \"1654\"]\\n[BlackElo \"1919\"]\\n[WhiteRatingDiff \"+19\"]\\n[BlackRatingDiff \"-22\"]\\n[ECO \"D04\"]\\n[Opening \"Queen\\'s Pawn Game: Colle System, Anti-Colle\"]\\n[TimeControl \"480+2\"]\\n[Termination \"Normal\"]',\n",
       " '1. d4 d5 2. Nf3 Nf6 3. e3 Bf5 4. Nh4 Bg6 5. Nxg6 hxg6 6. Nd2 e6 7. Bd3 Bd6 8. e4 dxe4 9. Nxe4 Rxh2 10. Ke2 Rxh1 11. Qxh1 Nc6 12. Bg5 Ke7 13. Qh7 Nxd4+ 14. Kd2 Qe8 15. Qxg7 Qh8 16. Bxf6+ Kd7 17. Qxh8 Rxh8 18. Bxh8 1-0']"
      ]
     },
     "execution_count": 3,
     "metadata": {},
     "output_type": "execute_result"
    }
   ],
   "source": [
    "lines[:4]"
   ]
  },
  {
   "cell_type": "code",
   "execution_count": 4,
   "id": "1c4e6ca4",
   "metadata": {},
   "outputs": [
    {
     "data": {
      "text/plain": [
       "'[Event \"Rated Classical game\"]\\n[Site \"https://lichess.org/j1dkb5dw\"]\\n[White \"BFG9k\"]\\n[Black \"mamalak\"]\\n[Result \"1-0\"]\\n[UTCDate \"2012.12.31\"]\\n[UTCTime \"23:01:03\"]\\n[WhiteElo \"1639\"]\\n[BlackElo \"1403\"]\\n[WhiteRatingDiff \"+5\"]\\n[BlackRatingDiff \"-8\"]\\n[ECO \"C00\"]\\n[Opening \"French Defense: Normal Variation\"]\\n[TimeControl \"600+8\"]\\n[Termination \"Normal\"] \\n1. e4 e6 2. d4 b6 3. a3 Bb7 4. Nc3 Nh6 5. Bxh6 gxh6 6. Be2 Qg5 7. Bg4 h5 8. Nf3 Qg6 9. Nh4 Qg5 10. Bxh5 Qxh4 11. Qf3 Kd8 12. Qxf7 Nc6 13. Qe8# 1-0'"
      ]
     },
     "execution_count": 4,
     "metadata": {},
     "output_type": "execute_result"
    }
   ],
   "source": [
    "games = list()\n",
    "\n",
    "i=0\n",
    "while (i < len(lines)-1):\n",
    "    games.append(f'{lines[i]} \\n{lines[i+1]}')\n",
    "    i += 2\n",
    "\n",
    "games[0]"
   ]
  },
  {
   "cell_type": "code",
   "execution_count": 5,
   "id": "e9c4b5e3-0d0b-4e3c-a71e-dbe211c3cfd8",
   "metadata": {},
   "outputs": [
    {
     "data": {
      "text/plain": [
       "121332"
      ]
     },
     "execution_count": 5,
     "metadata": {},
     "output_type": "execute_result"
    }
   ],
   "source": [
    "len(games)"
   ]
  },
  {
   "cell_type": "code",
   "execution_count": 6,
   "id": "8df68f0f-0ddf-42ce-99fd-914d9bd6fc71",
   "metadata": {},
   "outputs": [
    {
     "data": {
      "text/plain": [
       "['[Event \"Rated Classical game\"]\\n[Site \"https://lichess.org/j1dkb5dw\"]\\n[White \"BFG9k\"]\\n[Black \"mamalak\"]\\n[Result \"1-0\"]\\n[UTCDate \"2012.12.31\"]\\n[UTCTime \"23:01:03\"]\\n[WhiteElo \"1639\"]\\n[BlackElo \"1403\"]\\n[WhiteRatingDiff \"+5\"]\\n[BlackRatingDiff \"-8\"]\\n[ECO \"C00\"]\\n[Opening \"French Defense: Normal Variation\"]\\n[TimeControl \"600+8\"]\\n[Termination \"Normal\"] \\n1. e4 e6 2. d4 b6 3. a3 Bb7 4. Nc3 Nh6 5. Bxh6 gxh6 6. Be2 Qg5 7. Bg4 h5 8. Nf3 Qg6 9. Nh4 Qg5 10. Bxh5 Qxh4 11. Qf3 Kd8 12. Qxf7 Nc6 13. Qe8# 1-0',\n",
       " '[Event \"Rated Classical game\"]\\n[Site \"https://lichess.org/a9tcp02g\"]\\n[White \"Desmond_Wilson\"]\\n[Black \"savinka59\"]\\n[Result \"1-0\"]\\n[UTCDate \"2012.12.31\"]\\n[UTCTime \"23:04:12\"]\\n[WhiteElo \"1654\"]\\n[BlackElo \"1919\"]\\n[WhiteRatingDiff \"+19\"]\\n[BlackRatingDiff \"-22\"]\\n[ECO \"D04\"]\\n[Opening \"Queen\\'s Pawn Game: Colle System, Anti-Colle\"]\\n[TimeControl \"480+2\"]\\n[Termination \"Normal\"] \\n1. d4 d5 2. Nf3 Nf6 3. e3 Bf5 4. Nh4 Bg6 5. Nxg6 hxg6 6. Nd2 e6 7. Bd3 Bd6 8. e4 dxe4 9. Nxe4 Rxh2 10. Ke2 Rxh1 11. Qxh1 Nc6 12. Bg5 Ke7 13. Qh7 Nxd4+ 14. Kd2 Qe8 15. Qxg7 Qh8 16. Bxf6+ Kd7 17. Qxh8 Rxh8 18. Bxh8 1-0']"
      ]
     },
     "execution_count": 6,
     "metadata": {},
     "output_type": "execute_result"
    }
   ],
   "source": [
    "games[:2]"
   ]
  },
  {
   "cell_type": "code",
   "execution_count": 47,
   "id": "74ed62a2",
   "metadata": {},
   "outputs": [],
   "source": [
    "docs = list()\n",
    "bads = list()\n",
    "# Parse each game\n",
    "for game_text in games[:2000]:\n",
    "    try:\n",
    "        pgn = chess.pgn.read_game(io.StringIO(game_text))\n",
    "        headers = pgn.headers\n",
    "        #moves = [move for move in pgn.mainline_moves()]\n",
    "\n",
    "        data = {\n",
    "            \"event\": headers['Event'],\n",
    "            \"site\": headers['Site'],\n",
    "            \"white\": headers['White'],\n",
    "            \"black\": headers['Black'],\n",
    "            \"result\": headers['Result'],\n",
    "            \"utc_date\": headers['UTCDate'],\n",
    "            \"utc_time\": headers['UTCTime'],\n",
    "            \"white_elo\": headers['WhiteElo'],\n",
    "            \"black_elo\": headers['BlackElo'],\n",
    "            \"eco\": headers['ECO'],\n",
    "            \"opening\": headers['Opening'],\n",
    "            \"time_control\": headers['TimeControl'],\n",
    "            \"termination\": headers['Termination'],\n",
    "            \"moves\": str(pgn.mainline_moves()).replace('\\n', ' ')\n",
    "        }\n",
    "        docs.append(data)\n",
    "    except:\n",
    "        bads.append(game_text)\n"
   ]
  },
  {
   "cell_type": "code",
   "execution_count": 48,
   "id": "3299ff45-c47c-4be9-b44a-75b27f3c6838",
   "metadata": {},
   "outputs": [
    {
     "data": {
      "text/plain": [
       "2000"
      ]
     },
     "execution_count": 48,
     "metadata": {},
     "output_type": "execute_result"
    }
   ],
   "source": [
    "len(docs)"
   ]
  },
  {
   "cell_type": "code",
   "execution_count": 49,
   "id": "6c97da1c-1ce9-4e8d-9662-309b4fb9a59e",
   "metadata": {},
   "outputs": [
    {
     "data": {
      "text/plain": [
       "{'event': 'Rated Classical game',\n",
       " 'site': 'https://lichess.org/a9tcp02g',\n",
       " 'white': 'Desmond_Wilson',\n",
       " 'black': 'savinka59',\n",
       " 'result': '1-0',\n",
       " 'utc_date': '2012.12.31',\n",
       " 'utc_time': '23:04:12',\n",
       " 'white_elo': '1654',\n",
       " 'black_elo': '1919',\n",
       " 'eco': 'D04',\n",
       " 'opening': \"Queen's Pawn Game: Colle System, Anti-Colle\",\n",
       " 'time_control': '480+2',\n",
       " 'termination': 'Normal',\n",
       " 'moves': '1. d4 d5 2. Nf3 Nf6 3. e3 Bf5 4. Nh4 Bg6 5. Nxg6 hxg6 6. Nd2 e6 7. Bd3 Bd6 8. e4 dxe4 9. Nxe4 Rxh2 10. Ke2 Rxh1 11. Qxh1 Nc6 12. Bg5 Ke7 13. Qh7 Nxd4+ 14. Kd2 Qe8 15. Qxg7 Qh8 16. Bxf6+ Kd7 17. Qxh8 Rxh8 18. Bxh8'}"
      ]
     },
     "execution_count": 49,
     "metadata": {},
     "output_type": "execute_result"
    }
   ],
   "source": [
    "docs[1]"
   ]
  },
  {
   "cell_type": "code",
   "execution_count": 50,
   "id": "295b9c0d-57f8-4d66-8c51-4af3563261f1",
   "metadata": {},
   "outputs": [
    {
     "data": {
      "text/plain": [
       "0"
      ]
     },
     "execution_count": 50,
     "metadata": {},
     "output_type": "execute_result"
    }
   ],
   "source": [
    "len(bads)"
   ]
  },
  {
   "cell_type": "code",
   "execution_count": 51,
   "id": "e90315b5-a17e-4701-bb81-58a778eeca8b",
   "metadata": {},
   "outputs": [],
   "source": [
    "from elasticsearch import Elasticsearch\n",
    "es_client = Elasticsearch('http://localhost:9200')"
   ]
  },
  {
   "cell_type": "code",
   "execution_count": 52,
   "id": "ee02a6f9-cc69-48ea-acf2-5a58bfd07135",
   "metadata": {},
   "outputs": [],
   "source": [
    "index_name = \"chess-rag\" "
   ]
  },
  {
   "cell_type": "code",
   "execution_count": 53,
   "id": "918af55d-592b-41c7-8d45-ef5c356fec7c",
   "metadata": {},
   "outputs": [
    {
     "data": {
      "text/plain": [
       "ObjectApiResponse({'acknowledged': True})"
      ]
     },
     "execution_count": 53,
     "metadata": {},
     "output_type": "execute_result"
    }
   ],
   "source": [
    "es_client.indices.delete(index=index_name)"
   ]
  },
  {
   "cell_type": "code",
   "execution_count": 54,
   "id": "b990b260-1b50-4361-be29-546efb640e26",
   "metadata": {},
   "outputs": [
    {
     "data": {
      "text/plain": [
       "ObjectApiResponse({'acknowledged': True, 'shards_acknowledged': True, 'index': 'chess-rag'})"
      ]
     },
     "execution_count": 54,
     "metadata": {},
     "output_type": "execute_result"
    }
   ],
   "source": [
    "index_settings = {\n",
    "    \"settings\": {\n",
    "        \"number_of_shards\": 1,\n",
    "        \"number_of_replicas\": 0\n",
    "    },\n",
    "    \"mappings\": {\n",
    "        \"properties\": {\n",
    "            \"moves\": {\"type\": \"text\"},\n",
    "            \"white_player\": {\"type\": \"text\"},\n",
    "            \"black_player\": {\"type\": \"text\"},\n",
    "            \"white_elo\": {\"type\": \"text\"},\n",
    "            \"black_elo\": {\"type\": \"text\"},\n",
    "            \"event\": {\"type\": \"text\"},\n",
    "            \"result\": {\"type\": \"text\"},\n",
    "            \"opening\": {\"type\": \"keyword\"} \n",
    "        }\n",
    "    }\n",
    "}\n",
    "es_client.indices.create(index=index_name, body=index_settings)"
   ]
  },
  {
   "cell_type": "code",
   "execution_count": 55,
   "id": "4ad14757-e400-46f5-ba1f-e294368a98ff",
   "metadata": {},
   "outputs": [
    {
     "name": "stderr",
     "output_type": "stream",
     "text": [
      "100%|████████████████████████████████████████████████████████████████████████████████████████████████████████| 2000/2000 [00:14<00:00, 133.63it/s]\n"
     ]
    }
   ],
   "source": [
    "from tqdm.auto import tqdm\n",
    "for doc in tqdm(docs):\n",
    "    new_doc = {\n",
    "        \"moves\": doc[\"moves\"],\n",
    "        \"white_player\": doc[\"white\"],\n",
    "        \"black_player\": doc[\"black\"],\n",
    "        \"white_elo\": doc[\"white_elo\"],\n",
    "        \"black_elo\": doc[\"black_elo\"],\n",
    "        \"event\": doc[\"event\"],\n",
    "        \"result\": doc[\"result\"],\n",
    "        \"opening\": doc[\"opening\"]\n",
    "    }\n",
    "    es_client.index(index=index_name, document=new_doc)"
   ]
  },
  {
   "cell_type": "code",
   "execution_count": 17,
   "id": "20fec812",
   "metadata": {},
   "outputs": [],
   "source": [
    "prompt_template = \"\"\"\n",
    "You are a professional chess coach that creates chess puzzles, highlights erros and best moves and share similar games included in CONTEXT to improve and test the ELO of a player.\n",
    "\n",
    "Answer the QUESTION with your current knowledge, additionally use the CONTEXT to improve your analysis and reponse.\n",
    "Your answer should include\n",
    "- errors made in the game\n",
    "- best moves in the game\n",
    "- one or two puzzles to practice with\n",
    "- similar games that the user can study based on the question.\n",
    "\n",
    "If QUESTION refers to puzzles practice/creation, please add the puzzle in a FEN notation.\n",
    "If QUESTION refers to references/historical games, prove the algebraic notation.\n",
    "If QUESTION refers to highlight errors and best moves provide the list of them in algebraic notation.\n",
    "If QUESTION is not related to chess just let the user know that you are build for chess content.\n",
    "\n",
    "QUESTION: {question}\n",
    "\n",
    "CONTEXT:\n",
    "{context}\n",
    "\"\"\""
   ]
  },
  {
   "cell_type": "code",
   "execution_count": 18,
   "id": "3809bf97",
   "metadata": {},
   "outputs": [],
   "source": [
    "prompt_template = \"\"\"\n",
    "You are a professional chess coach specializing in creating puzzles, analyzing games, and enhancing player performance by identifying errors and recommending best moves. Your expertise also extends to sharing and referencing similar games to help players improve their ELO.\n",
    "\n",
    "When answering the QUESTION, incorporate your current knowledge along with the provided CONTEXT to deliver a comprehensive and insightful response. \n",
    "Your answer should include:\n",
    "\n",
    "1. **Errors and Inaccuracies**: Identify mistakes made during the game, explaining why they are errors and how they could have been avoided.\n",
    "2. **Best Moves**: Highlight the strongest moves played, and suggest optimal moves if applicable.\n",
    "3. **Practice Puzzles**: Provide one or two puzzles for the player to practice, formatted in FEN notation.\n",
    "4. **Study Material**: Suggest similar games included in CONTEXT that align with the QUESTION for further study.\n",
    "\n",
    "Additional Guidelines:\n",
    "- If the QUESTION pertains to puzzle practice or creation, include the puzzles in FEN notation.\n",
    "- If the QUESTION relates to historical games or references, provide the details in algebraic notation.\n",
    "- If the QUESTION focuses on errors and best moves, list them in algebraic notation with explanations.\n",
    "- If the QUESTION is unrelated to chess, politely inform the user that you are designed for chess-related content.\n",
    "\n",
    "QUESTION: {question}\n",
    "\n",
    "CONTEXT:\n",
    "{context}\n",
    "\n",
    "\"\"\""
   ]
  },
  {
   "cell_type": "code",
   "execution_count": 36,
   "id": "3f251df6-0fb9-45f0-b481-28b674f4f708",
   "metadata": {},
   "outputs": [],
   "source": [
    "def build_prompt(query, search_results):\n",
    "    prompt_template = \"\"\"\n",
    "    You are a professional chess coach specializing in creating puzzles, analyzing games, and enhancing player performance by identifying errors and recommending best moves. Your expertise also extends to sharing and referencing similar games to help players improve their ELO.\n",
    "    \n",
    "    When answering the QUESTION, incorporate your current knowledge along with the provided CONTEXT to deliver a comprehensive and insightful response. \n",
    "    Your answer should include:\n",
    "    \n",
    "    1. **Errors and Inaccuracies**: Identify mistakes made during the game, explaining why they are errors and how they could have been avoided.\n",
    "    2. **Best Moves**: Highlight the strongest moves played, and suggest optimal moves if applicable.\n",
    "    3. **Practice Puzzles**: Provide one or two puzzles for the player to practice, formatted in FEN notation.\n",
    "    4. **Study Material**: Suggest similar games included in CONTEXT that align with the QUESTION for further study.\n",
    "    \n",
    "    Additional Guidelines:\n",
    "    - If the QUESTION pertains to puzzle practice or creation, include the puzzles in FEN notation.\n",
    "    - If the QUESTION relates to historical games or references, provide the details in algebraic notation.\n",
    "    - If the QUESTION focuses on errors and best moves, list them in algebraic notation with explanations.\n",
    "    - If the QUESTION is unrelated to chess, politely inform the user that you are designed for chess-related content.\n",
    "    \n",
    "    QUESTION: {question}\n",
    "    \n",
    "    CONTEXT:\n",
    "    {context}\n",
    "    \n",
    "    \"\"\"\n",
    "    \n",
    "    context = \"\"\n",
    "    \n",
    "    for doc in search_results:\n",
    "        context += f\"{{moves: {doc['moves']}\\n\"\n",
    "        context += f\"opening: {doc['opening']}\\n\"\n",
    "        context += f\"white_player: {doc['white_player']}\\n\"\n",
    "        context += f\"black_player: {doc['black_player']}\\n\"\n",
    "        context += f\"white_elo: {doc['white_elo']}\\n\"\n",
    "        context += f\"black_elo: {doc['black_elo']}\\n}}\\n\"\n",
    "    \n",
    "    prompt=prompt_template.format(question=query, context=context).strip()\n",
    "\n",
    "    return prompt"
   ]
  },
  {
   "cell_type": "code",
   "execution_count": 37,
   "id": "92f2da1b",
   "metadata": {},
   "outputs": [],
   "source": [
    "from openai import OpenAI\n",
    "client = OpenAI(\n",
    "    base_url='http://localhost:11435/v1/',\n",
    "    api_key='ollama',\n",
    ")"
   ]
  },
  {
   "cell_type": "code",
   "execution_count": 38,
   "id": "8be884d5-c683-4840-85e5-e94f0d0498ce",
   "metadata": {},
   "outputs": [],
   "source": [
    "def llm(prompt):\n",
    "    response = client.chat.completions.create(\n",
    "        model='phi3',\n",
    "        messages=[{\"role\": \"user\", \"content\": prompt}]\n",
    "    )\n",
    "    \n",
    "    return response.choices[0].message.content"
   ]
  },
  {
   "cell_type": "code",
   "execution_count": 56,
   "id": "0bac38d0-d7ca-42cf-bed0-b8c3b1f095ff",
   "metadata": {},
   "outputs": [],
   "source": [
    "def elastic_search(query):\n",
    "    search_query = {\n",
    "        \"size\": 5,\n",
    "        \"query\": {\n",
    "            \"bool\": {\n",
    "                \"must\": {\n",
    "                    \"multi_match\": {\n",
    "                        \"query\": query,\n",
    "                        \"fields\": [\"moves^2\", \"opening\"],\n",
    "                        #\"fields\": [\"moves^2\", \"opening\", \"white_player\", \"black_player\", \"white_elo\", \"black_elo\"],\n",
    "                        \"type\": \"best_fields\"\n",
    "                    }\n",
    "                }\n",
    "            }\n",
    "        }\n",
    "    }\n",
    "\n",
    "    r = es_client.search(index=index_name, body=search_query)\n",
    "\n",
    "    results = []\n",
    "    \n",
    "    for hit in r['hits']['hits']:\n",
    "        results.append(hit['_source'])\n",
    "\n",
    "    return results"
   ]
  },
  {
   "cell_type": "code",
   "execution_count": 57,
   "id": "4b020652-c208-4095-bfb9-093ce8bb0e72",
   "metadata": {},
   "outputs": [],
   "source": [
    "\n",
    "chess_game = '''1. e4 c5 2. Nf3 d6 3. d4 cxd4 4. Nxd4 Nf6 5. Nc3 Nc6 6. Bc4 e6 7. Be3 Be7 8.\n",
    "Bb3 O-O 9. Qe2 Qa5 10. O-O-O Nxd4 11. Bxd4 Bd7 12. Kb1 Bc6 13. f4 Rad8 14. Rhf1\n",
    "b5 15. f5 b4 16. fxe6 bxc3 17. exf7+ Kh8 18. Rf5 Qb4 19. Qf1 Nxe4 20. a3 Qb7\n",
    "21. Qf4 Ba4 22. Qg4 Bf6 23. Rxf6 Bxb3'''"
   ]
  },
  {
   "cell_type": "code",
   "execution_count": 58,
   "id": "6a873b81-2e30-448a-a459-2deb06a221b7",
   "metadata": {},
   "outputs": [
    {
     "data": {
      "text/plain": [
       "[{'moves': '1. e4 c5 2. Nf3 Nc6 3. d4 cxd4 4. Nxd4 Nxd4 5. Qxd4 d6 6. Bb5+ Bd7 7. Nc3 a6 8. Bxd7+ Qxd7 9. O-O e5 10. Qd3 h6 11. Nd5 Nf6 12. Nb6 Qg4 13. f3 Qc8 14. Nxc8',\n",
       "  'white_player': 'savinka59',\n",
       "  'black_player': 'Karen_Armenia',\n",
       "  'white_elo': '1778',\n",
       "  'black_elo': '1528',\n",
       "  'event': 'Rated Blitz game',\n",
       "  'result': '1-0',\n",
       "  'opening': 'Sicilian Defense: Open #3'},\n",
       " {'moves': '1. d4 c5 2. e4 e6 3. Bd3 cxd4 4. Bd2 e5 5. c3 Nc6 6. cxd4 Nxd4 7. Nc3 d6 8. Nd5 Nf6 9. Qa4+ Bd7 10. Qd1 Be7 11. Ne2 O-O 12. Nxd4 exd4 13. Qc2 Nxd5 14. Bc4 Nf6 15. Bd5 Nxd5 16. exd5 Bg5 17. Bxg5 Qxg5 18. Qd2 Rfe8+ 19. Kd1 Qxg2 20. Re1 Qf3+ 21. Kc2 Bf5+ 22. Kc1 Rac8+',\n",
       "  'white_player': 't4nk',\n",
       "  'black_player': 'cheesedout',\n",
       "  'white_elo': '1506',\n",
       "  'black_elo': '1875',\n",
       "  'event': 'Rated Bullet game',\n",
       "  'result': '0-1',\n",
       "  'opening': \"Queen's Pawn Game: Franco-Sicilian Defense\"},\n",
       " {'moves': '1. e4 c5 2. Nf3 d6 3. d4 cxd4 4. Nxd4 Nf6 5. Nc3 a6 6. Be2 e6 7. Be3 Bd7 8. f3 Nc6 9. Qd2 Nxd4 10. Bxd4 Be7 11. O-O-O Qc7 12. Kb1 O-O 13. g4 h6 14. h4 e5 15. Be3 Nh7 16. g5 hxg5 17. hxg5 Nxg5 18. Bxg5 Bxg5 19. Qxg5 b5 20. Rdg1 g6 21. Qh6',\n",
       "  'white_player': 'tiggran',\n",
       "  'black_player': 'adamsrj',\n",
       "  'white_elo': '1584',\n",
       "  'black_elo': '1523',\n",
       "  'event': 'Rated Blitz game',\n",
       "  'result': '1-0',\n",
       "  'opening': 'Sicilian Defense: Scheveningen Variation, Classical Variation'},\n",
       " {'moves': '1. Nf3 e6 2. c4 c5 3. Nc3 Nf6 4. e4 d6 5. d4 cxd4 6. Nxd4 Be7 7. Be2 O-O 8. O-O Nc6 9. Nc2 b6 10. Be3 Bb7 11. f3 a6 12. Qd2 Rc8 13. Rfd1 Qc7 14. b3 Rfe8 15. Na4 Nd7 16. Nb4 Nc5',\n",
       "  'white_player': 'As17',\n",
       "  'black_player': 'Ghost_Lombardi',\n",
       "  'white_elo': '1644',\n",
       "  'black_elo': '2135',\n",
       "  'event': 'Rated Blitz game',\n",
       "  'result': '0-1',\n",
       "  'opening': 'English Opening: Agincourt Defense #3'},\n",
       " {'moves': '1. e4 e5 2. Nf3 Nc6 3. b3 Bc5 4. Bb2 d6 5. d4 exd4 6. Nxd4 Qf6 7. c3 Nxd4 8. cxd4 Bb4+ 9. Nc3 c5 10. dxc5 Bxc3+ 11. Bxc3 Qxc3+ 12. Qd2 Qxa1+ 13. Ke2 dxc5 14. Kf3 Qf6+ 15. Ke3 Ne7 16. Bb5+ Nc6 17. h4 Bd7 18. Rd1 O-O-O',\n",
       "  'white_player': 'ilhan',\n",
       "  'black_player': 'MaxPax',\n",
       "  'white_elo': '1531',\n",
       "  'black_elo': '1574',\n",
       "  'event': 'Rated Classical game',\n",
       "  'result': '0-1',\n",
       "  'opening': \"King's Knight Opening: Normal Variation\"}]"
      ]
     },
     "execution_count": 58,
     "metadata": {},
     "output_type": "execute_result"
    }
   ],
   "source": [
    "results = elastic_search(\"1. e4 c5 2. Nf3 d6 3. d4 cxd4 4. Nxd4 Nf6\")\n",
    "results"
   ]
  },
  {
   "cell_type": "code",
   "execution_count": 42,
   "id": "801644f1-9948-4f69-95d0-c326b613433a",
   "metadata": {},
   "outputs": [],
   "source": [
    "query = \"what erros did I make in the following chess game\" + chess_game"
   ]
  },
  {
   "cell_type": "code",
   "execution_count": 43,
   "id": "7cad10c8-b062-4d32-9014-44bb02807a83",
   "metadata": {},
   "outputs": [
    {
     "data": {
      "text/plain": [
       "[{'moves': '1. e4 c5 2. Nf3 d6 3. Bc4 a6 4. a3 e6 5. d3 Nf6 6. Nc3 Be7 7. h3 O-O 8. O-O b5 9. Ba2 Nc6 10. Ne2 Bd7 11. Ng3 Qb6 12. Rb1 b4 13. Be3 h6 14. Qd2 Kh7 15. Nh2 a5 16. a4 Nd4 17. f4 Bxa4 18. Bxd4 cxd4 19. Bb3 Bxb3 20. cxb3 Rac8 21. f5 e5 22. Ng4 Nxg4 23. hxg4 Bg5 24. Qe2 Rc7 25. Nh5 f6 26. Ng3 Rfc8 27. Kh2 Rc2 28. Qd1 Rd2 29. Qf3 Rcc2 30. Rg1 Qb5 31. Nf1 Rxd3',\n",
       "  'white_player': 'FifthCategory',\n",
       "  'black_player': 'chinokoli',\n",
       "  'white_elo': '1880',\n",
       "  'black_elo': '1941',\n",
       "  'event': 'Rated Blitz game',\n",
       "  'result': '0-1',\n",
       "  'opening': 'Sicilian Defense'},\n",
       " {'moves': '1. Nc3 c5 2. d3 g6 3. e4 Bg7 4. f4 Nc6 5. Nf3 e6 6. Be3 Nge7 7. Qe2 Qb6 8. Na4 Qa5+ 9. Nc3 d6 10. Bd2 b5 11. Nd5 Qd8 12. Nxe7 Qxe7 13. O-O-O b4 14. d4 Nxd4 15. Nxd4 Bxd4 16. Qb5+ Bd7 17. Qb7 O-O 18. Bb5 Rfd8 19. Bxd7 Qxd7 20. Qxd7 Rxd7 21. c3 bxc3 22. Bxc3 Bxc3 23. bxc3 Rad8 24. Kc2 d5 25. e5 d4 26. c4 Rb8 27. Rb1 Rdb7 28. Rxb7 Rxb7 29. Rc1 Kf8 30. Kd3 Ke7 31. Rc2 Kd7 32. Ke4 Ke7 33. g4 f6 34. exf6+ Kxf6 35. h4 h6 36. g5+ hxg5 37. hxg5+ Ke7 38. Ke5 Rb1 39. Re2 d3 40. Rd2 Re1+ 41. Re2 Rxe2#',\n",
       "  'white_player': 'Ben_Dover',\n",
       "  'black_player': 'pseudoknight',\n",
       "  'white_elo': '1871',\n",
       "  'black_elo': '1714',\n",
       "  'event': 'Rated Bullet game',\n",
       "  'result': '0-1',\n",
       "  'opening': 'Van Geet Opening'},\n",
       " {'moves': '1. e4 c5 2. Nf3 b6 3. d4 cxd4 4. Nxd4 Bb7 5. Bc4 g6 6. O-O Bg7 7. Nc3 Nc6 8. Nxc6 dxc6 9. f4 c5 10. f5 Nf6 11. Be3 O-O 12. fxg6 hxg6 13. Rxf6 Qxd1+ 14. Rxd1 Bxf6 15. Rd7 Bxc3 16. bxc3 Bxe4 17. Rxe7 Rae8 18. Rxa7 Bd5 19. Bxd5 Rxe3 20. Kf2 Rxc3 21. Bb3 c4 22. Ba4 b5 23. Bxb5 Rxc2+ 24. Kf3 Rc8 25. Ke3 Rb2 26. a4 c3 27. Bc4 c2',\n",
       "  'white_player': 'namesnik',\n",
       "  'black_player': 'ow055',\n",
       "  'white_elo': '1689',\n",
       "  'black_elo': '1804',\n",
       "  'event': 'Rated Blitz game',\n",
       "  'result': '0-1',\n",
       "  'opening': 'Sicilian Defense: Katalimov Variation'},\n",
       " {'moves': '1. e4 e5 2. Nc3 d6 3. Bc4 Be6 4. Bb3 Qd7 5. d3 Be7 6. f4 Qc8 7. Nf3 Nf6 8. h3 Bxb3 9. axb3 Nc6 10. Qe2 Nd4 11. Nxd4 exd4 12. Nd5 Nxd5 13. exd5 Qd7 14. O-O O-O 15. f5 Bf6 16. Qg4 c5 17. Bg5 Bxg5 18. Qxg5 f6 19. Qg4 Rae8 20. c3 dxc3 21. bxc3 Re5 22. c4 Rfe8 23. Rf3 a6 24. Rg3 Re1+ 25. Rxe1 Rxe1+ 26. Kh2 Rb1 27. h4 Rxb3 28. h5 h6 29. Qg6 a5 30. Re3 Kf8 31. Qh7 a4 32. Qh8+ Kf7 33. Re6 Rxd3 34. g4 a3 35. g5 fxg5 36. f6 Rd2+ 37. Kg3 Rd3+ 38. Kg4 Rd4+ 39. Kf5 Rf4#',\n",
       "  'white_player': 'jesse',\n",
       "  'black_player': 'jlfs',\n",
       "  'white_elo': '1461',\n",
       "  'black_elo': '1462',\n",
       "  'event': 'Rated Bullet game',\n",
       "  'result': '0-1',\n",
       "  'opening': 'Vienna Game'},\n",
       " {'moves': '1. e4 c5 2. c3 d6 3. d4 cxd4 4. cxd4 Nf6 5. Nc3 a6 6. Bg5 e6 7. Nf3 Be7 8. e5 dxe5 9. Nxe5 Nbd7 10. Bc4 O-O 11. O-O b5 12. Be2 Rb8 13. Nc6 Qc7 14. Nxb8 Qxb8 15. f4 h6 16. Bh4 Qd6 17. Qd3 Bd8 18. Rae1 Bb6 19. Kh1 Qc6 20. Bf3 Nd5 21. f5 Qc7 22. fxe6 Nxc3 23. exd7 Bxd7 24. Qxc3 Qf4 25. Bg3 Qg5 26. Bc6 Bxc6 27. Qxc6 Bxd4 28. Bf4 Qh4 29. g3 Qg4 30. Re4 f5',\n",
       "  'white_player': 'lamobot',\n",
       "  'black_player': 'adamsrj',\n",
       "  'white_elo': '1394',\n",
       "  'black_elo': '1508',\n",
       "  'event': 'Rated Blitz game',\n",
       "  'result': '0-1',\n",
       "  'opening': 'Sicilian Defense: Alapin Variation'}]"
      ]
     },
     "execution_count": 43,
     "metadata": {},
     "output_type": "execute_result"
    }
   ],
   "source": [
    "results = elastic_search(query)\n",
    "results"
   ]
  },
  {
   "cell_type": "code",
   "execution_count": 44,
   "id": "decb4ff1-c408-4155-83ba-abadc43eb96f",
   "metadata": {},
   "outputs": [
    {
     "data": {
      "text/plain": [
       "'You are a professional chess coach specializing in creating puzzles, analyzing games, and enhancing player performance by identifying errors and recommending best moves. Your expertise also extends to sharing and referencing similar games to help players improve their ELO.\\n    \\n    When answering the QUESTION, incorporate your current knowledge along with the provided CONTEXT to deliver a comprehensive and insightful response. \\n    Your answer should include:\\n    \\n    1. **Errors and Inaccuracies**: Identify mistakes made during the game, explaining why they are errors and how they could have been avoided.\\n    2. **Best Moves**: Highlight the strongest moves played, and suggest optimal moves if applicable.\\n    3. **Practice Puzzles**: Provide one or two puzzles for the player to practice, formatted in FEN notation.\\n    4. **Study Material**: Suggest similar games included in CONTEXT that align with the QUESTION for further study.\\n    \\n    Additional Guidelines:\\n    - If the QUESTION pertains to puzzle practice or creation, include the puzzles in FEN notation.\\n    - If the QUESTION relates to historical games or references, provide the details in algebraic notation.\\n    - If the QUESTION focuses on errors and best moves, list them in algebraic notation with explanations.\\n    - If the QUESTION is unrelated to chess, politely inform the user that you are designed for chess-related content.\\n    \\n    QUESTION: what erros did I make in the following chess game1. e4 c5 2. Nf3 d6 3. d4 cxd4 4. Nxd4 Nf6 5. Nc3 Nc6 6. Bc4 e6 7. Be3 Be7 8.\\nBb3 O-O 9. Qe2 Qa5 10. O-O-O Nxd4 11. Bxd4 Bd7 12. Kb1 Bc6 13. f4 Rad8 14. Rhf1\\nb5 15. f5 b4 16. fxe6 bxc3 17. exf7+ Kh8 18. Rf5 Qb4 19. Qf1 Nxe4 20. a3 Qb7\\n21. Qf4 Ba4 22. Qg4 Bf6 23. Rxf6 Bxb3\\n    \\n    CONTEXT:\\n    {moves: 1. e4 c5 2. Nf3 d6 3. Bc4 a6 4. a3 e6 5. d3 Nf6 6. Nc3 Be7 7. h3 O-O 8. O-O b5 9. Ba2 Nc6 10. Ne2 Bd7 11. Ng3 Qb6 12. Rb1 b4 13. Be3 h6 14. Qd2 Kh7 15. Nh2 a5 16. a4 Nd4 17. f4 Bxa4 18. Bxd4 cxd4 19. Bb3 Bxb3 20. cxb3 Rac8 21. f5 e5 22. Ng4 Nxg4 23. hxg4 Bg5 24. Qe2 Rc7 25. Nh5 f6 26. Ng3 Rfc8 27. Kh2 Rc2 28. Qd1 Rd2 29. Qf3 Rcc2 30. Rg1 Qb5 31. Nf1 Rxd3\\nopening: Sicilian Defense\\nwhite_player: FifthCategory\\nblack_player: chinokoli\\nwhite_elo: 1880\\nblack_elo: 1941\\n}\\n{moves: 1. Nc3 c5 2. d3 g6 3. e4 Bg7 4. f4 Nc6 5. Nf3 e6 6. Be3 Nge7 7. Qe2 Qb6 8. Na4 Qa5+ 9. Nc3 d6 10. Bd2 b5 11. Nd5 Qd8 12. Nxe7 Qxe7 13. O-O-O b4 14. d4 Nxd4 15. Nxd4 Bxd4 16. Qb5+ Bd7 17. Qb7 O-O 18. Bb5 Rfd8 19. Bxd7 Qxd7 20. Qxd7 Rxd7 21. c3 bxc3 22. Bxc3 Bxc3 23. bxc3 Rad8 24. Kc2 d5 25. e5 d4 26. c4 Rb8 27. Rb1 Rdb7 28. Rxb7 Rxb7 29. Rc1 Kf8 30. Kd3 Ke7 31. Rc2 Kd7 32. Ke4 Ke7 33. g4 f6 34. exf6+ Kxf6 35. h4 h6 36. g5+ hxg5 37. hxg5+ Ke7 38. Ke5 Rb1 39. Re2 d3 40. Rd2 Re1+ 41. Re2 Rxe2#\\nopening: Van Geet Opening\\nwhite_player: Ben_Dover\\nblack_player: pseudoknight\\nwhite_elo: 1871\\nblack_elo: 1714\\n}\\n{moves: 1. e4 c5 2. Nf3 b6 3. d4 cxd4 4. Nxd4 Bb7 5. Bc4 g6 6. O-O Bg7 7. Nc3 Nc6 8. Nxc6 dxc6 9. f4 c5 10. f5 Nf6 11. Be3 O-O 12. fxg6 hxg6 13. Rxf6 Qxd1+ 14. Rxd1 Bxf6 15. Rd7 Bxc3 16. bxc3 Bxe4 17. Rxe7 Rae8 18. Rxa7 Bd5 19. Bxd5 Rxe3 20. Kf2 Rxc3 21. Bb3 c4 22. Ba4 b5 23. Bxb5 Rxc2+ 24. Kf3 Rc8 25. Ke3 Rb2 26. a4 c3 27. Bc4 c2\\nopening: Sicilian Defense: Katalimov Variation\\nwhite_player: namesnik\\nblack_player: ow055\\nwhite_elo: 1689\\nblack_elo: 1804\\n}\\n{moves: 1. e4 e5 2. Nc3 d6 3. Bc4 Be6 4. Bb3 Qd7 5. d3 Be7 6. f4 Qc8 7. Nf3 Nf6 8. h3 Bxb3 9. axb3 Nc6 10. Qe2 Nd4 11. Nxd4 exd4 12. Nd5 Nxd5 13. exd5 Qd7 14. O-O O-O 15. f5 Bf6 16. Qg4 c5 17. Bg5 Bxg5 18. Qxg5 f6 19. Qg4 Rae8 20. c3 dxc3 21. bxc3 Re5 22. c4 Rfe8 23. Rf3 a6 24. Rg3 Re1+ 25. Rxe1 Rxe1+ 26. Kh2 Rb1 27. h4 Rxb3 28. h5 h6 29. Qg6 a5 30. Re3 Kf8 31. Qh7 a4 32. Qh8+ Kf7 33. Re6 Rxd3 34. g4 a3 35. g5 fxg5 36. f6 Rd2+ 37. Kg3 Rd3+ 38. Kg4 Rd4+ 39. Kf5 Rf4#\\nopening: Vienna Game\\nwhite_player: jesse\\nblack_player: jlfs\\nwhite_elo: 1461\\nblack_elo: 1462\\n}\\n{moves: 1. e4 c5 2. c3 d6 3. d4 cxd4 4. cxd4 Nf6 5. Nc3 a6 6. Bg5 e6 7. Nf3 Be7 8. e5 dxe5 9. Nxe5 Nbd7 10. Bc4 O-O 11. O-O b5 12. Be2 Rb8 13. Nc6 Qc7 14. Nxb8 Qxb8 15. f4 h6 16. Bh4 Qd6 17. Qd3 Bd8 18. Rae1 Bb6 19. Kh1 Qc6 20. Bf3 Nd5 21. f5 Qc7 22. fxe6 Nxc3 23. exd7 Bxd7 24. Qxc3 Qf4 25. Bg3 Qg5 26. Bc6 Bxc6 27. Qxc6 Bxd4 28. Bf4 Qh4 29. g3 Qg4 30. Re4 f5\\nopening: Sicilian Defense: Alapin Variation\\nwhite_player: lamobot\\nblack_player: adamsrj\\nwhite_elo: 1394\\nblack_elo: 1508\\n}'"
      ]
     },
     "execution_count": 44,
     "metadata": {},
     "output_type": "execute_result"
    }
   ],
   "source": [
    "prompt = build_prompt(query, results)\n",
    "r'{}'.format(prompt)"
   ]
  },
  {
   "cell_type": "code",
   "execution_count": 45,
   "id": "226a50bc-05c9-40e3-b025-e2ae5109e0ab",
   "metadata": {},
   "outputs": [
    {
     "data": {
      "text/plain": [
       "4366"
      ]
     },
     "execution_count": 45,
     "metadata": {},
     "output_type": "execute_result"
    }
   ],
   "source": [
    "len(prompt)"
   ]
  },
  {
   "cell_type": "code",
   "execution_count": 46,
   "id": "99fa313e-07e1-4872-a28c-50da951c7ba1",
   "metadata": {},
   "outputs": [],
   "source": [
    "answer = llm(prompt)"
   ]
  },
  {
   "cell_type": "code",
   "execution_count": 50,
   "id": "d52277f7-eb8f-4d99-9831-4d173b62a499",
   "metadata": {},
   "outputs": [
    {
     "data": {
      "text/plain": [
       "' The first game is an opening that starts with the moves:\\n\\n{ \"moves\": [ \"e4\", \"c5\", \"Nf3\", \"b6\", \"d4\", \"cxd4\", \"Nxd4\", \"Bb7\", \"g6\", \"Be2\", \"h6\" ] }\\n\\nThe second game is an opening that starts with the moves:\\n\\n{ \"moves\": [ \"e4\", \"c5\", \"Nc3\", \"dxc5\", \"bxc5\", \"f4\", \"Qa5+\", \"g2\", \"Kd8\", \"Rh6\" ] }\\n\\nThe third game is an opening that starts with the moves:\\n0-1\\n{ \\n    \"moves\": [\\n        \"e4\", // white opens epawns controlling d5 and f5. The most common move in openings, setting up to control the center quickly..\\n         c5 // black responds aggressively with a Sicilian Defence opening system where it mirrored whites first two moves allowing him to fight for central dominance from this early stage - which can lead into many different variations of gameplay. The popularity and depth in theory behind these openings make them attractive choices amongst players seeking an equal measure of complexity vs simplicity (at least initially).\\n         Nc3 // Knights are often developed towards the center as they control central squares while avoiding potential pawn clashes after initial exchanges..\\n        ...\\n    ], \\n    \"opening\": \"Sicilian Defense\"\\n}\\n{  \\n    \\nThe fourth game is an opening that starts with the moves:\\n0-1\\n{ \\n    \"moves\": [\\n         e4, // white opens by moving his King Pawn two squares forward. This move frees up the Bishop and Queen for later developments..\\n        c5// black responds to counter whites plans - common in Sicilian Defence lines where players seek asymmetry (at least initially), with intentions of challenging control over central square d4 after exchanges occur between both sides... \\n         Nc6, // Black immediately developing Knight towards the center..\\n        ...\\n    ], \\n   \"opening\": \"Sicilian Defense\"\\n}\\n{\\n    \\nThe fifth game is an opening that starts with:\\n0-1\\n{ \\n    \"moves\": [\\n         e4, // white moves his pawn two squares forward - classic way of getting the King castled..\\n        c5,// black immediately responds to counter whites plans as he mirrored whites first move... which can lead into many different variations of gameplay where they fight for control over central dominance after initial exchanges occur between both sides. The popularity and depth in theory behind these openings make them attractive choices amongst players seeking an equal measure of complexity vs simplicity (at least initially).\\n        ... \\n    ], \"opening\": Sicilian Defense\" // This opening is based on the principle that Black aims to seize control over central squares like e4 and d5 using their pawns. It\\'ts one way for black players looking offence-oriented..  \\n}\\n{  \\n    \\nThe sixth game starts with:\\n0-1\\n{ \\n    \"moves\": [\\n        e2, // white moves his King Pawn two squares forward - this is a common first step towards developing pieces and preparing to castle... after which its often beneficial for each side move all their Knight before the bishops or queen (not always). This opening sets up potential for quicker castling if necessary as well.. \\n        ... // The following series of moves are aimed at controlling central squares like e4 and d5, where white has a more solid approach with his Bishop Pawn advancing. Knights often develop towards the center before bishops or queen to avoid potential pawn clashes after initial exchanges occur between both sides...\\n    ], \\n   \"opening\": \\'English Opening\\' // This is an opening that starts from a different perspective, with focus on controlling long term positional play and central influence..    \\n}\\n{  \\n    \\nThe seventh game opens like this:\\n0-1\\n{\\n        \"moves\": [ \\n            e4,// white moves his pawn to the center creating space for Bishops development in future turn\\'s. Also provides opportunity for Queen and King castle if needed... This is a common opening move with aim towards controlling central squares while avoiding potential early confrontations between White knights..  \\n        ], \\n       \"opening\": \\'King Pawn Opening\" // In the beginning of games, it\\'s usually wise not to rush and bring out all pieces simultaneously... in this case white opts for a more cautious approach aimed at development without immediate confrontation but rather solid positional build-up..  \\n}    \\n{ \\n    \"moves\": [\\n        d4// A standard opening move, with intention of taking control over the center and setting up potential pawn captures on e5... white is starting offense & attack by placing a Pawn in the center that\\'ll support his Kings Knight/Bishop development..  \\n    ],  \"opening\": \\'Queen\\'s Gambit\"// The Queen\\'s gambit opening starts with both sides controlling central squares while simultaneously preparing for castling, as well being flexible enough to evolve into a myriad of different variations based on players preferences...  \\n}    \\n{ \\n    \"moves\": [ // An aggressive Sicilian Defense setup from black perspective aimed at seizing control over central squares using their pawns - the goal is often offence-oriented..     \\n        c5,// mirroring white\\'s opening move for equal measure of complexity vs simplicity (at least initially).   \\n         ...  \\n       ],  \"opening\": \\'Sicilian Defense\" // Black aims to seize control over central squares like e4 and d5 using their pawns. This is one way players seeking offence-oriented..  \\n}'"
      ]
     },
     "execution_count": 50,
     "metadata": {},
     "output_type": "execute_result"
    }
   ],
   "source": [
    "answer"
   ]
  },
  {
   "cell_type": "code",
   "execution_count": null,
   "id": "b4a1a7e6-7539-44a3-b74a-f960374ec59d",
   "metadata": {},
   "outputs": [],
   "source": [
    "def rag(query):\n",
    "    results = elastic_search(query)\n",
    "    prompt = build_prompt(query, results)\n",
    "    answer = llm(prompt)\n",
    "\n",
    "    return answer"
   ]
  },
  {
   "cell_type": "code",
   "execution_count": null,
   "id": "c1c72021-c017-452d-8769-f14226d0f391",
   "metadata": {},
   "outputs": [],
   "source": [
    "rag(\"what erros did I make in the following chess game\" + chess_game)"
   ]
  },
  {
   "cell_type": "code",
   "execution_count": null,
   "id": "aae5ca4e-2b4c-49ff-a0b1-8b38838c71be",
   "metadata": {},
   "outputs": [],
   "source": []
  },
  {
   "cell_type": "code",
   "execution_count": null,
   "id": "dd7086b6",
   "metadata": {},
   "outputs": [],
   "source": []
  },
  {
   "cell_type": "code",
   "execution_count": null,
   "id": "486ed90f-6fd7-4cd0-b2b3-e8865e264095",
   "metadata": {},
   "outputs": [],
   "source": []
  },
  {
   "cell_type": "code",
   "execution_count": null,
   "id": "ae3ec7f1-44e5-4859-8779-2a5dab475f8c",
   "metadata": {},
   "outputs": [],
   "source": []
  },
  {
   "cell_type": "code",
   "execution_count": null,
   "id": "cbb6efca-86a2-4f31-8bd6-903ca22ad316",
   "metadata": {},
   "outputs": [
    {
     "ename": "ConnectionError",
     "evalue": "Connection error caused by: ConnectionError(Connection error caused by: NewConnectionError(<urllib3.connection.HTTPConnection object at 0x7fe22cafa9b0>: Failed to establish a new connection: [Errno 111] Connection refused))",
     "output_type": "error",
     "traceback": [
      "\u001b[0;31m---------------------------------------------------------------------------\u001b[0m",
      "\u001b[0;31mConnectionError\u001b[0m                           Traceback (most recent call last)",
      "Cell \u001b[0;32mIn[60], line 1\u001b[0m\n\u001b[0;32m----> 1\u001b[0m \u001b[43mrag\u001b[49m\u001b[43m(\u001b[49m\u001b[43mquery\u001b[49m\u001b[43m)\u001b[49m\n",
      "Cell \u001b[0;32mIn[56], line 2\u001b[0m, in \u001b[0;36mrag\u001b[0;34m(query)\u001b[0m\n\u001b[1;32m      1\u001b[0m \u001b[38;5;28;01mdef\u001b[39;00m \u001b[38;5;21mrag\u001b[39m(query):\n\u001b[0;32m----> 2\u001b[0m     results \u001b[38;5;241m=\u001b[39m \u001b[43melastic_search\u001b[49m\u001b[43m(\u001b[49m\u001b[43mquery\u001b[49m\u001b[43m)\u001b[49m\n\u001b[1;32m      3\u001b[0m     prompt \u001b[38;5;241m=\u001b[39m build_prompt(query, results)\n\u001b[1;32m      4\u001b[0m     answer \u001b[38;5;241m=\u001b[39m llm(prompt)\n",
      "Cell \u001b[0;32mIn[55], line 22\u001b[0m, in \u001b[0;36melastic_search\u001b[0;34m(query)\u001b[0m\n\u001b[1;32m      1\u001b[0m \u001b[38;5;28;01mdef\u001b[39;00m \u001b[38;5;21melastic_search\u001b[39m(query):\n\u001b[1;32m      2\u001b[0m     search_query \u001b[38;5;241m=\u001b[39m {\n\u001b[1;32m      3\u001b[0m         \u001b[38;5;124m\"\u001b[39m\u001b[38;5;124msize\u001b[39m\u001b[38;5;124m\"\u001b[39m: \u001b[38;5;241m5\u001b[39m,\n\u001b[1;32m      4\u001b[0m         \u001b[38;5;124m\"\u001b[39m\u001b[38;5;124mquery\u001b[39m\u001b[38;5;124m\"\u001b[39m: {\n\u001b[0;32m   (...)\u001b[0m\n\u001b[1;32m     19\u001b[0m         }\n\u001b[1;32m     20\u001b[0m     }\n\u001b[0;32m---> 22\u001b[0m     r \u001b[38;5;241m=\u001b[39m \u001b[43mes_client\u001b[49m\u001b[38;5;241;43m.\u001b[39;49m\u001b[43msearch\u001b[49m\u001b[43m(\u001b[49m\u001b[43mindex\u001b[49m\u001b[38;5;241;43m=\u001b[39;49m\u001b[43mindex_name\u001b[49m\u001b[43m,\u001b[49m\u001b[43m \u001b[49m\u001b[43mbody\u001b[49m\u001b[38;5;241;43m=\u001b[39;49m\u001b[43msearch_query\u001b[49m\u001b[43m)\u001b[49m\n\u001b[1;32m     24\u001b[0m     results \u001b[38;5;241m=\u001b[39m []\n\u001b[1;32m     26\u001b[0m     \u001b[38;5;28;01mfor\u001b[39;00m hit \u001b[38;5;129;01min\u001b[39;00m r[\u001b[38;5;124m'\u001b[39m\u001b[38;5;124mhits\u001b[39m\u001b[38;5;124m'\u001b[39m][\u001b[38;5;124m'\u001b[39m\u001b[38;5;124mhits\u001b[39m\u001b[38;5;124m'\u001b[39m]:\n",
      "File \u001b[0;32m~/projects/github/llm-bootcamp/venv/lib/python3.10/site-packages/elasticsearch/_sync/client/utils.py:446\u001b[0m, in \u001b[0;36m_rewrite_parameters.<locals>.wrapper.<locals>.wrapped\u001b[0;34m(*args, **kwargs)\u001b[0m\n\u001b[1;32m    443\u001b[0m         \u001b[38;5;28;01mexcept\u001b[39;00m \u001b[38;5;167;01mKeyError\u001b[39;00m:\n\u001b[1;32m    444\u001b[0m             \u001b[38;5;28;01mpass\u001b[39;00m\n\u001b[0;32m--> 446\u001b[0m \u001b[38;5;28;01mreturn\u001b[39;00m \u001b[43mapi\u001b[49m\u001b[43m(\u001b[49m\u001b[38;5;241;43m*\u001b[39;49m\u001b[43margs\u001b[49m\u001b[43m,\u001b[49m\u001b[43m \u001b[49m\u001b[38;5;241;43m*\u001b[39;49m\u001b[38;5;241;43m*\u001b[39;49m\u001b[43mkwargs\u001b[49m\u001b[43m)\u001b[49m\n",
      "File \u001b[0;32m~/projects/github/llm-bootcamp/venv/lib/python3.10/site-packages/elasticsearch/_sync/client/__init__.py:4119\u001b[0m, in \u001b[0;36mElasticsearch.search\u001b[0;34m(self, index, aggregations, aggs, allow_no_indices, allow_partial_search_results, analyze_wildcard, analyzer, batched_reduce_size, ccs_minimize_roundtrips, collapse, default_operator, df, docvalue_fields, error_trace, expand_wildcards, explain, ext, fields, filter_path, force_synthetic_source, from_, highlight, human, ignore_throttled, ignore_unavailable, indices_boost, knn, lenient, max_concurrent_shard_requests, min_compatible_shard_node, min_score, pit, post_filter, pre_filter_shard_size, preference, pretty, profile, q, query, rank, request_cache, rescore, rest_total_hits_as_int, retriever, routing, runtime_mappings, script_fields, scroll, search_after, search_type, seq_no_primary_term, size, slice, sort, source, source_excludes, source_includes, stats, stored_fields, suggest, suggest_field, suggest_mode, suggest_size, suggest_text, terminate_after, timeout, track_scores, track_total_hits, typed_keys, version, body)\u001b[0m\n\u001b[1;32m   4117\u001b[0m \u001b[38;5;28;01mif\u001b[39;00m __body \u001b[38;5;129;01mis\u001b[39;00m \u001b[38;5;129;01mnot\u001b[39;00m \u001b[38;5;28;01mNone\u001b[39;00m:\n\u001b[1;32m   4118\u001b[0m     __headers[\u001b[38;5;124m\"\u001b[39m\u001b[38;5;124mcontent-type\u001b[39m\u001b[38;5;124m\"\u001b[39m] \u001b[38;5;241m=\u001b[39m \u001b[38;5;124m\"\u001b[39m\u001b[38;5;124mapplication/json\u001b[39m\u001b[38;5;124m\"\u001b[39m\n\u001b[0;32m-> 4119\u001b[0m \u001b[38;5;28;01mreturn\u001b[39;00m \u001b[38;5;28;43mself\u001b[39;49m\u001b[38;5;241;43m.\u001b[39;49m\u001b[43mperform_request\u001b[49m\u001b[43m(\u001b[49m\u001b[43m  \u001b[49m\u001b[38;5;66;43;03m# type: ignore[return-value]\u001b[39;49;00m\n\u001b[1;32m   4120\u001b[0m \u001b[43m    \u001b[49m\u001b[38;5;124;43m\"\u001b[39;49m\u001b[38;5;124;43mPOST\u001b[39;49m\u001b[38;5;124;43m\"\u001b[39;49m\u001b[43m,\u001b[49m\n\u001b[1;32m   4121\u001b[0m \u001b[43m    \u001b[49m\u001b[43m__path\u001b[49m\u001b[43m,\u001b[49m\n\u001b[1;32m   4122\u001b[0m \u001b[43m    \u001b[49m\u001b[43mparams\u001b[49m\u001b[38;5;241;43m=\u001b[39;49m\u001b[43m__query\u001b[49m\u001b[43m,\u001b[49m\n\u001b[1;32m   4123\u001b[0m \u001b[43m    \u001b[49m\u001b[43mheaders\u001b[49m\u001b[38;5;241;43m=\u001b[39;49m\u001b[43m__headers\u001b[49m\u001b[43m,\u001b[49m\n\u001b[1;32m   4124\u001b[0m \u001b[43m    \u001b[49m\u001b[43mbody\u001b[49m\u001b[38;5;241;43m=\u001b[39;49m\u001b[43m__body\u001b[49m\u001b[43m,\u001b[49m\n\u001b[1;32m   4125\u001b[0m \u001b[43m    \u001b[49m\u001b[43mendpoint_id\u001b[49m\u001b[38;5;241;43m=\u001b[39;49m\u001b[38;5;124;43m\"\u001b[39;49m\u001b[38;5;124;43msearch\u001b[39;49m\u001b[38;5;124;43m\"\u001b[39;49m\u001b[43m,\u001b[49m\n\u001b[1;32m   4126\u001b[0m \u001b[43m    \u001b[49m\u001b[43mpath_parts\u001b[49m\u001b[38;5;241;43m=\u001b[39;49m\u001b[43m__path_parts\u001b[49m\u001b[43m,\u001b[49m\n\u001b[1;32m   4127\u001b[0m \u001b[43m\u001b[49m\u001b[43m)\u001b[49m\n",
      "File \u001b[0;32m~/projects/github/llm-bootcamp/venv/lib/python3.10/site-packages/elasticsearch/_sync/client/_base.py:271\u001b[0m, in \u001b[0;36mBaseClient.perform_request\u001b[0;34m(self, method, path, params, headers, body, endpoint_id, path_parts)\u001b[0m\n\u001b[1;32m    255\u001b[0m \u001b[38;5;28;01mdef\u001b[39;00m \u001b[38;5;21mperform_request\u001b[39m(\n\u001b[1;32m    256\u001b[0m     \u001b[38;5;28mself\u001b[39m,\n\u001b[1;32m    257\u001b[0m     method: \u001b[38;5;28mstr\u001b[39m,\n\u001b[0;32m   (...)\u001b[0m\n\u001b[1;32m    264\u001b[0m     path_parts: Optional[Mapping[\u001b[38;5;28mstr\u001b[39m, Any]] \u001b[38;5;241m=\u001b[39m \u001b[38;5;28;01mNone\u001b[39;00m,\n\u001b[1;32m    265\u001b[0m ) \u001b[38;5;241m-\u001b[39m\u001b[38;5;241m>\u001b[39m ApiResponse[Any]:\n\u001b[1;32m    266\u001b[0m     \u001b[38;5;28;01mwith\u001b[39;00m \u001b[38;5;28mself\u001b[39m\u001b[38;5;241m.\u001b[39m_otel\u001b[38;5;241m.\u001b[39mspan(\n\u001b[1;32m    267\u001b[0m         method,\n\u001b[1;32m    268\u001b[0m         endpoint_id\u001b[38;5;241m=\u001b[39mendpoint_id,\n\u001b[1;32m    269\u001b[0m         path_parts\u001b[38;5;241m=\u001b[39mpath_parts \u001b[38;5;129;01mor\u001b[39;00m {},\n\u001b[1;32m    270\u001b[0m     ) \u001b[38;5;28;01mas\u001b[39;00m otel_span:\n\u001b[0;32m--> 271\u001b[0m         response \u001b[38;5;241m=\u001b[39m \u001b[38;5;28;43mself\u001b[39;49m\u001b[38;5;241;43m.\u001b[39;49m\u001b[43m_perform_request\u001b[49m\u001b[43m(\u001b[49m\n\u001b[1;32m    272\u001b[0m \u001b[43m            \u001b[49m\u001b[43mmethod\u001b[49m\u001b[43m,\u001b[49m\n\u001b[1;32m    273\u001b[0m \u001b[43m            \u001b[49m\u001b[43mpath\u001b[49m\u001b[43m,\u001b[49m\n\u001b[1;32m    274\u001b[0m \u001b[43m            \u001b[49m\u001b[43mparams\u001b[49m\u001b[38;5;241;43m=\u001b[39;49m\u001b[43mparams\u001b[49m\u001b[43m,\u001b[49m\n\u001b[1;32m    275\u001b[0m \u001b[43m            \u001b[49m\u001b[43mheaders\u001b[49m\u001b[38;5;241;43m=\u001b[39;49m\u001b[43mheaders\u001b[49m\u001b[43m,\u001b[49m\n\u001b[1;32m    276\u001b[0m \u001b[43m            \u001b[49m\u001b[43mbody\u001b[49m\u001b[38;5;241;43m=\u001b[39;49m\u001b[43mbody\u001b[49m\u001b[43m,\u001b[49m\n\u001b[1;32m    277\u001b[0m \u001b[43m            \u001b[49m\u001b[43motel_span\u001b[49m\u001b[38;5;241;43m=\u001b[39;49m\u001b[43motel_span\u001b[49m\u001b[43m,\u001b[49m\n\u001b[1;32m    278\u001b[0m \u001b[43m        \u001b[49m\u001b[43m)\u001b[49m\n\u001b[1;32m    279\u001b[0m         otel_span\u001b[38;5;241m.\u001b[39mset_elastic_cloud_metadata(response\u001b[38;5;241m.\u001b[39mmeta\u001b[38;5;241m.\u001b[39mheaders)\n\u001b[1;32m    280\u001b[0m         \u001b[38;5;28;01mreturn\u001b[39;00m response\n",
      "File \u001b[0;32m~/projects/github/llm-bootcamp/venv/lib/python3.10/site-packages/elasticsearch/_sync/client/_base.py:316\u001b[0m, in \u001b[0;36mBaseClient._perform_request\u001b[0;34m(self, method, path, params, headers, body, otel_span)\u001b[0m\n\u001b[1;32m    313\u001b[0m \u001b[38;5;28;01melse\u001b[39;00m:\n\u001b[1;32m    314\u001b[0m     target \u001b[38;5;241m=\u001b[39m path\n\u001b[0;32m--> 316\u001b[0m meta, resp_body \u001b[38;5;241m=\u001b[39m \u001b[38;5;28;43mself\u001b[39;49m\u001b[38;5;241;43m.\u001b[39;49m\u001b[43mtransport\u001b[49m\u001b[38;5;241;43m.\u001b[39;49m\u001b[43mperform_request\u001b[49m\u001b[43m(\u001b[49m\n\u001b[1;32m    317\u001b[0m \u001b[43m    \u001b[49m\u001b[43mmethod\u001b[49m\u001b[43m,\u001b[49m\n\u001b[1;32m    318\u001b[0m \u001b[43m    \u001b[49m\u001b[43mtarget\u001b[49m\u001b[43m,\u001b[49m\n\u001b[1;32m    319\u001b[0m \u001b[43m    \u001b[49m\u001b[43mheaders\u001b[49m\u001b[38;5;241;43m=\u001b[39;49m\u001b[43mrequest_headers\u001b[49m\u001b[43m,\u001b[49m\n\u001b[1;32m    320\u001b[0m \u001b[43m    \u001b[49m\u001b[43mbody\u001b[49m\u001b[38;5;241;43m=\u001b[39;49m\u001b[43mbody\u001b[49m\u001b[43m,\u001b[49m\n\u001b[1;32m    321\u001b[0m \u001b[43m    \u001b[49m\u001b[43mrequest_timeout\u001b[49m\u001b[38;5;241;43m=\u001b[39;49m\u001b[38;5;28;43mself\u001b[39;49m\u001b[38;5;241;43m.\u001b[39;49m\u001b[43m_request_timeout\u001b[49m\u001b[43m,\u001b[49m\n\u001b[1;32m    322\u001b[0m \u001b[43m    \u001b[49m\u001b[43mmax_retries\u001b[49m\u001b[38;5;241;43m=\u001b[39;49m\u001b[38;5;28;43mself\u001b[39;49m\u001b[38;5;241;43m.\u001b[39;49m\u001b[43m_max_retries\u001b[49m\u001b[43m,\u001b[49m\n\u001b[1;32m    323\u001b[0m \u001b[43m    \u001b[49m\u001b[43mretry_on_status\u001b[49m\u001b[38;5;241;43m=\u001b[39;49m\u001b[38;5;28;43mself\u001b[39;49m\u001b[38;5;241;43m.\u001b[39;49m\u001b[43m_retry_on_status\u001b[49m\u001b[43m,\u001b[49m\n\u001b[1;32m    324\u001b[0m \u001b[43m    \u001b[49m\u001b[43mretry_on_timeout\u001b[49m\u001b[38;5;241;43m=\u001b[39;49m\u001b[38;5;28;43mself\u001b[39;49m\u001b[38;5;241;43m.\u001b[39;49m\u001b[43m_retry_on_timeout\u001b[49m\u001b[43m,\u001b[49m\n\u001b[1;32m    325\u001b[0m \u001b[43m    \u001b[49m\u001b[43mclient_meta\u001b[49m\u001b[38;5;241;43m=\u001b[39;49m\u001b[38;5;28;43mself\u001b[39;49m\u001b[38;5;241;43m.\u001b[39;49m\u001b[43m_client_meta\u001b[49m\u001b[43m,\u001b[49m\n\u001b[1;32m    326\u001b[0m \u001b[43m    \u001b[49m\u001b[43motel_span\u001b[49m\u001b[38;5;241;43m=\u001b[39;49m\u001b[43motel_span\u001b[49m\u001b[43m,\u001b[49m\n\u001b[1;32m    327\u001b[0m \u001b[43m\u001b[49m\u001b[43m)\u001b[49m\n\u001b[1;32m    329\u001b[0m \u001b[38;5;66;03m# HEAD with a 404 is returned as a normal response\u001b[39;00m\n\u001b[1;32m    330\u001b[0m \u001b[38;5;66;03m# since this is used as an 'exists' functionality.\u001b[39;00m\n\u001b[1;32m    331\u001b[0m \u001b[38;5;28;01mif\u001b[39;00m \u001b[38;5;129;01mnot\u001b[39;00m (method \u001b[38;5;241m==\u001b[39m \u001b[38;5;124m\"\u001b[39m\u001b[38;5;124mHEAD\u001b[39m\u001b[38;5;124m\"\u001b[39m \u001b[38;5;129;01mand\u001b[39;00m meta\u001b[38;5;241m.\u001b[39mstatus \u001b[38;5;241m==\u001b[39m \u001b[38;5;241m404\u001b[39m) \u001b[38;5;129;01mand\u001b[39;00m (\n\u001b[1;32m    332\u001b[0m     \u001b[38;5;129;01mnot\u001b[39;00m \u001b[38;5;241m200\u001b[39m \u001b[38;5;241m<\u001b[39m\u001b[38;5;241m=\u001b[39m meta\u001b[38;5;241m.\u001b[39mstatus \u001b[38;5;241m<\u001b[39m \u001b[38;5;241m299\u001b[39m\n\u001b[1;32m    333\u001b[0m     \u001b[38;5;129;01mand\u001b[39;00m (\n\u001b[0;32m   (...)\u001b[0m\n\u001b[1;32m    337\u001b[0m     )\n\u001b[1;32m    338\u001b[0m ):\n",
      "File \u001b[0;32m~/projects/github/llm-bootcamp/venv/lib/python3.10/site-packages/elastic_transport/_transport.py:342\u001b[0m, in \u001b[0;36mTransport.perform_request\u001b[0;34m(self, method, target, body, headers, max_retries, retry_on_status, retry_on_timeout, request_timeout, client_meta, otel_span)\u001b[0m\n\u001b[1;32m    340\u001b[0m \u001b[38;5;28;01mtry\u001b[39;00m:\n\u001b[1;32m    341\u001b[0m     otel_span\u001b[38;5;241m.\u001b[39mset_node_metadata(node\u001b[38;5;241m.\u001b[39mhost, node\u001b[38;5;241m.\u001b[39mport, node\u001b[38;5;241m.\u001b[39mbase_url, target)\n\u001b[0;32m--> 342\u001b[0m     resp \u001b[38;5;241m=\u001b[39m \u001b[43mnode\u001b[49m\u001b[38;5;241;43m.\u001b[39;49m\u001b[43mperform_request\u001b[49m\u001b[43m(\u001b[49m\n\u001b[1;32m    343\u001b[0m \u001b[43m        \u001b[49m\u001b[43mmethod\u001b[49m\u001b[43m,\u001b[49m\n\u001b[1;32m    344\u001b[0m \u001b[43m        \u001b[49m\u001b[43mtarget\u001b[49m\u001b[43m,\u001b[49m\n\u001b[1;32m    345\u001b[0m \u001b[43m        \u001b[49m\u001b[43mbody\u001b[49m\u001b[38;5;241;43m=\u001b[39;49m\u001b[43mrequest_body\u001b[49m\u001b[43m,\u001b[49m\n\u001b[1;32m    346\u001b[0m \u001b[43m        \u001b[49m\u001b[43mheaders\u001b[49m\u001b[38;5;241;43m=\u001b[39;49m\u001b[43mrequest_headers\u001b[49m\u001b[43m,\u001b[49m\n\u001b[1;32m    347\u001b[0m \u001b[43m        \u001b[49m\u001b[43mrequest_timeout\u001b[49m\u001b[38;5;241;43m=\u001b[39;49m\u001b[43mrequest_timeout\u001b[49m\u001b[43m,\u001b[49m\n\u001b[1;32m    348\u001b[0m \u001b[43m    \u001b[49m\u001b[43m)\u001b[49m\n\u001b[1;32m    349\u001b[0m     _logger\u001b[38;5;241m.\u001b[39minfo(\n\u001b[1;32m    350\u001b[0m         \u001b[38;5;124m\"\u001b[39m\u001b[38;5;132;01m%s\u001b[39;00m\u001b[38;5;124m \u001b[39m\u001b[38;5;132;01m%s\u001b[39;00m\u001b[38;5;132;01m%s\u001b[39;00m\u001b[38;5;124m [status:\u001b[39m\u001b[38;5;132;01m%s\u001b[39;00m\u001b[38;5;124m duration:\u001b[39m\u001b[38;5;132;01m%.3f\u001b[39;00m\u001b[38;5;124ms]\u001b[39m\u001b[38;5;124m\"\u001b[39m\n\u001b[1;32m    351\u001b[0m         \u001b[38;5;241m%\u001b[39m (\n\u001b[0;32m   (...)\u001b[0m\n\u001b[1;32m    357\u001b[0m         )\n\u001b[1;32m    358\u001b[0m     )\n\u001b[1;32m    360\u001b[0m     \u001b[38;5;28;01mif\u001b[39;00m method \u001b[38;5;241m!=\u001b[39m \u001b[38;5;124m\"\u001b[39m\u001b[38;5;124mHEAD\u001b[39m\u001b[38;5;124m\"\u001b[39m:\n",
      "File \u001b[0;32m~/projects/github/llm-bootcamp/venv/lib/python3.10/site-packages/elastic_transport/_node/_http_urllib3.py:202\u001b[0m, in \u001b[0;36mUrllib3HttpNode.perform_request\u001b[0;34m(self, method, target, body, headers, request_timeout)\u001b[0m\n\u001b[1;32m    194\u001b[0m         err \u001b[38;5;241m=\u001b[39m \u001b[38;5;167;01mConnectionError\u001b[39;00m(\u001b[38;5;28mstr\u001b[39m(e), errors\u001b[38;5;241m=\u001b[39m(e,))\n\u001b[1;32m    195\u001b[0m     \u001b[38;5;28mself\u001b[39m\u001b[38;5;241m.\u001b[39m_log_request(\n\u001b[1;32m    196\u001b[0m         method\u001b[38;5;241m=\u001b[39mmethod,\n\u001b[1;32m    197\u001b[0m         target\u001b[38;5;241m=\u001b[39mtarget,\n\u001b[0;32m   (...)\u001b[0m\n\u001b[1;32m    200\u001b[0m         exception\u001b[38;5;241m=\u001b[39merr,\n\u001b[1;32m    201\u001b[0m     )\n\u001b[0;32m--> 202\u001b[0m     \u001b[38;5;28;01mraise\u001b[39;00m err \u001b[38;5;28;01mfrom\u001b[39;00m \u001b[38;5;28;01mNone\u001b[39;00m\n\u001b[1;32m    204\u001b[0m meta \u001b[38;5;241m=\u001b[39m ApiResponseMeta(\n\u001b[1;32m    205\u001b[0m     node\u001b[38;5;241m=\u001b[39m\u001b[38;5;28mself\u001b[39m\u001b[38;5;241m.\u001b[39mconfig,\n\u001b[1;32m    206\u001b[0m     duration\u001b[38;5;241m=\u001b[39mduration,\n\u001b[0;32m   (...)\u001b[0m\n\u001b[1;32m    209\u001b[0m     headers\u001b[38;5;241m=\u001b[39mresponse_headers,\n\u001b[1;32m    210\u001b[0m )\n\u001b[1;32m    211\u001b[0m \u001b[38;5;28mself\u001b[39m\u001b[38;5;241m.\u001b[39m_log_request(\n\u001b[1;32m    212\u001b[0m     method\u001b[38;5;241m=\u001b[39mmethod,\n\u001b[1;32m    213\u001b[0m     target\u001b[38;5;241m=\u001b[39mtarget,\n\u001b[0;32m   (...)\u001b[0m\n\u001b[1;32m    217\u001b[0m     response\u001b[38;5;241m=\u001b[39mdata,\n\u001b[1;32m    218\u001b[0m )\n",
      "\u001b[0;31mConnectionError\u001b[0m: Connection error caused by: ConnectionError(Connection error caused by: NewConnectionError(<urllib3.connection.HTTPConnection object at 0x7fe22cafa9b0>: Failed to establish a new connection: [Errno 111] Connection refused))"
     ]
    }
   ],
   "source": [
    "rag(query)"
   ]
  },
  {
   "cell_type": "code",
   "execution_count": null,
   "id": "e61df6bc-09a8-4ab6-a2c4-4245d9132b53",
   "metadata": {},
   "outputs": [],
   "source": []
  }
 ],
 "metadata": {
  "kernelspec": {
   "display_name": "Python 3 (ipykernel)",
   "language": "python",
   "name": "python3"
  },
  "language_info": {
   "codemirror_mode": {
    "name": "ipython",
    "version": 3
   },
   "file_extension": ".py",
   "mimetype": "text/x-python",
   "name": "python",
   "nbconvert_exporter": "python",
   "pygments_lexer": "ipython3",
   "version": "3.10.12"
  }
 },
 "nbformat": 4,
 "nbformat_minor": 5
}
